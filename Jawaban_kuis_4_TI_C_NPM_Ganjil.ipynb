{
 "cells": [
  {
   "cell_type": "code",
   "execution_count": 1,
   "metadata": {},
   "outputs": [
    {
     "name": "stdout",
     "output_type": "stream",
     "text": [
      "X:5\n",
      "Y:9\n",
      "14\n"
     ]
    }
   ],
   "source": [
    "#1. Buatlah program untuk menghitung penjumlahan bilangan X dan Y, dan Y diinput melalui\n",
    "#keyboard.\n",
    "#Contoh :\n",
    "#X : 5\n",
    "#Y : 9\n",
    "\n",
    "#Output :\n",
    "#14\n",
    "\n",
    "x=int(input(\"X:\"))\n",
    "y=int(input(\"Y:\"))\n",
    "jumlah=x+y\n",
    "print(jumlah)"
   ]
  },
  {
   "cell_type": "code",
   "execution_count": 3,
   "metadata": {},
   "outputs": [
    {
     "name": "stdout",
     "output_type": "stream",
     "text": [
      "Panjang(p)(meter):-3\n",
      "Lebar(p)(meter):4\n",
      "Panjang atau lebar harus lebih besar dari nol\n"
     ]
    }
   ],
   "source": [
    "#2. Buatlah program untuk menghitung keliling sebuah persegi panjang dengan panjang (p) dan\n",
    "#lebar (l) diinput via keyboard.p dan l dalam meter. Jika p atau p diinput bilangan negatif atu nol,\n",
    "#maka akan muncul keterangan “Panjang atau Lebar harus lebih besar dari nol” dan program\n",
    "#terhenti. Jka Panjang dan Lebar lebih dari 0, maka program akan mencetak hasil Keliling persegi\n",
    "#panjang tersebut.\n",
    "#Contoh 1 :\n",
    "#Panjang (p)(meter) : 3\n",
    "#Lebar (l)(meter): 4\n",
    "#Output :\n",
    "#Keliling (meter) : 14\n",
    "\n",
    "#Contoh 2 :\n",
    "#Panjang (p)(meter) : -3\n",
    "#Lebar (l)(meter): 4\n",
    "#Output :\n",
    "#Panjang atau lebar harus lebih besar dari nol\n",
    "\n",
    "p=int(input(\"Panjang(p)(meter):\"))\n",
    "l=int(input(\"Lebar(p)(meter):\"))\n",
    "ket=\"\"\n",
    "if p>0 and l>0:\n",
    "    keliling=(2*p)+(2*l)\n",
    "    print(\"Keliling (meter):\",keliling)\n",
    "else:\n",
    "    print(\"Panjang atau lebar harus lebih besar dari nol\")\n",
    "\n",
    "    "
   ]
  },
  {
   "cell_type": "code",
   "execution_count": 6,
   "metadata": {},
   "outputs": [
    {
     "name": "stdout",
     "output_type": "stream",
     "text": [
      "X:1\n",
      "Y:11\n",
      "1  Lebih kecil dari 10\n",
      "2  Lebih kecil dari 10\n",
      "3  Lebih kecil dari 10\n",
      "4  Lebih kecil dari 10\n",
      "5  Lebih kecil dari 10\n",
      "6  Lebih kecil dari 10\n",
      "7  Lebih kecil dari 10\n",
      "8  Lebih kecil dari 10\n",
      "9  Lebih kecil dari 10\n",
      "10  Sepuluh atau lebih besar dari 10\n",
      "11  Sepuluh atau lebih besar dari 10\n"
     ]
    }
   ],
   "source": [
    "#3. Buatlah program untuk mencetak deret dari X ke Y. Pada setiap bilangan yang tercetak, beri\n",
    "#keterangan di sampingnya. Jika bilangan tersebut lebih besar atau sama dengan 10, beri\n",
    "#keterangan “10 atau lebih besar dari 10”. Jika bilangan tersebut lebih kecil dari 10, beri\n",
    "#keterangan “Lebih kecil dari 10”.\n",
    "#Contoh :\n",
    "#X : 8\n",
    "#Y : 11\n",
    "\n",
    "#Output :\n",
    "#8 Lebih kecil dari 10\n",
    "#9 Lebih kecil dari 10\n",
    "#10 Sepuluh atau lebih besar dari 10\n",
    "#11 Sepuluh atau lebih besar dari 10\n",
    "\n",
    "x=int(input(\"X:\"))\n",
    "y=int(input(\"Y:\"))\n",
    "for i in range(x,y+1):\n",
    "    if i<10:\n",
    "        print(i,\" Lebih kecil dari 10\")\n",
    "    elif i>=10:\n",
    "        print(i,\" Sepuluh atau lebih besar dari 10\")\n",
    "\n"
   ]
  },
  {
   "cell_type": "code",
   "execution_count": null,
   "metadata": {},
   "outputs": [],
   "source": []
  }
 ],
 "metadata": {
  "kernelspec": {
   "display_name": "Python 3",
   "language": "python",
   "name": "python3"
  },
  "language_info": {
   "codemirror_mode": {
    "name": "ipython",
    "version": 3
   },
   "file_extension": ".py",
   "mimetype": "text/x-python",
   "name": "python",
   "nbconvert_exporter": "python",
   "pygments_lexer": "ipython3",
   "version": "3.8.5"
  }
 },
 "nbformat": 4,
 "nbformat_minor": 4
}
