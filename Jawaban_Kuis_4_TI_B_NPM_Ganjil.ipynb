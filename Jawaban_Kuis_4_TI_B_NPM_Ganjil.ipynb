{
 "cells": [
  {
   "cell_type": "code",
   "execution_count": 3,
   "metadata": {},
   "outputs": [
    {
     "name": "stdout",
     "output_type": "stream",
     "text": [
      "0\n",
      "1\n",
      "2\n",
      "3\n",
      "4\n",
      "5\n",
      "6\n",
      "7\n",
      "8\n",
      "9\n",
      "10\n",
      "11\n",
      "12\n",
      "13\n",
      "14\n",
      "15\n",
      "16\n",
      "17\n",
      "18\n",
      "19\n",
      "20\n"
     ]
    }
   ],
   "source": [
    "# 1.Buatlah program untuk mencetak nilai secara berurut dari 0 s/d 20, gunakan for in range.\n",
    "for i in range(21):\n",
    "    print(i)"
   ]
  },
  {
   "cell_type": "code",
   "execution_count": 7,
   "metadata": {},
   "outputs": [
    {
     "name": "stdout",
     "output_type": "stream",
     "text": [
      "X:1\n",
      "Y:10\n",
      "1\n",
      "2 Ini bilangan 2\n",
      "3\n",
      "4\n",
      "5 Ini bilangan 5\n",
      "6\n",
      "7 Ini bilangan 7\n",
      "8\n",
      "9\n",
      "10\n"
     ]
    }
   ],
   "source": [
    "#2. Buatlah program untuk mencetak bilanngan dari X ke Y, jika di dalam bilangan tersebut\n",
    "#ditemukan bilangan 2,5 dan 7 maka cetaklah “Ini bilangan 2” atau “Ini bilangan 5” atau “Ini\n",
    "#bilangan 7”. X dan Y diinput dengan keyboard.\n",
    "#Contoh :\n",
    "#X : 3\n",
    "#Y : 10\n",
    "\n",
    "#Output :\n",
    "#3\n",
    "#4\n",
    "#5 Ini bilangan 5\n",
    "#6\n",
    "#7 Ini bilangan 7\n",
    "#8\n",
    "#9\n",
    "#10\n",
    "\n",
    "x=int(input(\"X:\"))\n",
    "y=int(input(\"Y:\"))\n",
    "\n",
    "for i in range(x,y+1):\n",
    "    if i==2 or i==5 or i==7:\n",
    "       print(i,end=\"\")\n",
    "       print(\" Ini bilangan\",i) \n",
    "    else:\n",
    "        print(i)\n"
   ]
  },
  {
   "cell_type": "code",
   "execution_count": 8,
   "metadata": {},
   "outputs": [
    {
     "name": "stdout",
     "output_type": "stream",
     "text": [
      "S (m):4\n",
      "Luas Bujur Sangkar (m persegi) : 16\n",
      "Keterangan : Kecil\n",
      "****************"
     ]
    }
   ],
   "source": [
    "#3. Buatlah program untuk mengihtung Luas Bujur Sangkar dengan sisi S diinput dengan keyboard.\n",
    "#Jika Luas lebih besar dari 100, maka beri keterangan “Luas”, Jika luas lebih besar atau sama\n",
    "#dengan 50 dan lebih kecil dari 100 maka beri keternagan “Sedang” dan jika luas lebih besar dari 0\n",
    "#dan lebih kecil dari 50, maka beri keterangan “Kecil”. Lalu cetak lah karakter “*” sebanyak\n",
    "#bilangan Luas. (Bobot : 40%)\n",
    "\n",
    "#Contoh :\n",
    "#S (m): 4\n",
    "#Output :\n",
    "#Luas Bujur Sangkar (m persegi): 16\n",
    "#Keterangan : Kecil\n",
    "#****************\n",
    "\n",
    "s=int(input(\"S (m):\"))\n",
    "luas=s*s\n",
    "if luas>100:\n",
    "    ket=\"Luas\"\n",
    "elif luas>=50 and luas<100:\n",
    "    ket=\"Sedang\"\n",
    "elif luas>0 and luas<50:\n",
    "    ket=\"Kecil\"\n",
    "\n",
    "print(\"Luas Bujur Sangkar (m persegi) :\",luas)    \n",
    "print(\"Keterangan :\",ket)\n",
    "for i in range(luas):\n",
    "    print(\"*\", end=\"\")"
   ]
  },
  {
   "cell_type": "code",
   "execution_count": null,
   "metadata": {},
   "outputs": [],
   "source": []
  }
 ],
 "metadata": {
  "kernelspec": {
   "display_name": "Python 3",
   "language": "python",
   "name": "python3"
  },
  "language_info": {
   "codemirror_mode": {
    "name": "ipython",
    "version": 3
   },
   "file_extension": ".py",
   "mimetype": "text/x-python",
   "name": "python",
   "nbconvert_exporter": "python",
   "pygments_lexer": "ipython3",
   "version": "3.8.5"
  }
 },
 "nbformat": 4,
 "nbformat_minor": 4
}
