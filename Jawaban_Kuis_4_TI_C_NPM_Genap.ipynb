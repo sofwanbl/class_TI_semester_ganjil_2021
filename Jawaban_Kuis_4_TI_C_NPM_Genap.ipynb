{
 "cells": [
  {
   "cell_type": "code",
   "execution_count": 1,
   "metadata": {},
   "outputs": [
    {
     "name": "stdout",
     "output_type": "stream",
     "text": [
      "X:9\n",
      "Y:5\n",
      "45\n"
     ]
    }
   ],
   "source": [
    "#1. Buatlah program untuk menghitung perkalian bilangan X dan Y, dan Y diinput melalui\n",
    "#keyboard.\n",
    "#Contoh :\n",
    "#X : 5\n",
    "#Y : 9\n",
    "\n",
    "#Output :\n",
    "#45\n",
    "\n",
    "x=int(input(\"X:\"))\n",
    "y=int(input(\"Y:\"))\n",
    "hasil=x*y\n",
    "print(hasil)"
   ]
  },
  {
   "cell_type": "code",
   "execution_count": 4,
   "metadata": {},
   "outputs": [
    {
     "name": "stdout",
     "output_type": "stream",
     "text": [
      "Panjang (p)(meter):-1\n",
      "Lebar (l) (meter) :9\n",
      "Panjang atau Lebar harus lebih besar dari nol\n"
     ]
    }
   ],
   "source": [
    "#2. Buatlah program untuk menghitung luas sebuah persegi panjang, dengan panjang (p) dan\n",
    "#lebar (l) diinput via keyboard.p dan l dalam meter. Jika p atau l diinput bilangan negatif atau nol,\n",
    "#maka akan muncul keterangan “Panjang atau Lebar harus lebih besar dari nol” dan program\n",
    "#terhenti. Jka Panjang dan Lebar lebih dari 0, maka program akan mencetak Luas persegi\n",
    "#panjang tersebut.\n",
    "\n",
    "#Contoh 1 :\n",
    "#Panjang (p)(meter) : 3\n",
    "#Lebar (l)(meter): 4\n",
    "#Output :\n",
    "#Luas (meter) : 12\n",
    "\n",
    "#Contoh 2 :\n",
    "#Panjang (p)(meter) : -3\n",
    "#Lebar (l)(meter): 4\n",
    "#Output :\n",
    "#Panjang atau lebar harus lebih besar dari nol\n",
    "    \n",
    "p=int(input(\"Panjang (p)(meter):\"))\n",
    "l=int(input(\"Lebar (l) (meter) :\"))\n",
    "if p>0 and l>0:    \n",
    "    luas=p*l\n",
    "    print(\"Luas (meter):\",luas)\n",
    "else:\n",
    "    print(\"Panjang atau Lebar harus lebih besar dari nol\")"
   ]
  },
  {
   "cell_type": "code",
   "execution_count": 12,
   "metadata": {},
   "outputs": [
    {
     "name": "stdout",
     "output_type": "stream",
     "text": [
      "X:-2\n",
      "Y:6\n",
      "-2  Negatif\n",
      "-1  Negatif\n",
      "0  Nol\n",
      "1  Positif\n",
      "2  Positif\n",
      "3  Positif\n",
      "4  Positif\n",
      "5  Positif\n",
      "6  Positif\n"
     ]
    }
   ],
   "source": [
    "#3. Buatlah program untuk mencetak deret dari X ke Y. X harus lebih kecil atau sama dengan Y, jika\n",
    "#X lebih besar dari Y, beri keterangan, “X harus lebih kecil dari Y” dan program terhenti. Jika X\n",
    "#sama atau lebih kecil dari Y, maka akan tercetak hasil deret bilangan dan keterangan disamping\n",
    "#setiap bilangan yang tercetak. Jika bilangan tersebut bilangan positif, beri keterangan “Positif”.\n",
    "#Jika bilangan adalah nol, beri keterangan “Nol” dan jika bilangan tersebut bilangan negatif, maka\n",
    "#beri keterangan “Negatif”.\n",
    "#Contoh 1 :\n",
    "#X : -2\n",
    "#Y : 1\n",
    "\n",
    "#Output :\n",
    "#-2 Negatif\n",
    "#-1 Negatif\n",
    "#0 Nol\n",
    "#1 Positif\n",
    "#Contoh 2 :\n",
    "#X : 5\n",
    "#Y : 1\n",
    "\n",
    "#Output :\n",
    "#X harus lebih kecil dari Y\n",
    "\n",
    "x=int(input(\"X:\"))\n",
    "y=int(input(\"Y:\"))\n",
    "if x<=y:\n",
    "  for i in range(x,y+1):\n",
    "     if i<0:\n",
    "        print(i,\" Negatif\")\n",
    "     elif i==0:\n",
    "        print(i,\" Nol\")\n",
    "     else:\n",
    "        print(i,\" Positif\")\n",
    "else:\n",
    "    print(\"X harus lebih kecil atau sama dengan Y\")"
   ]
  },
  {
   "cell_type": "code",
   "execution_count": null,
   "metadata": {},
   "outputs": [],
   "source": []
  },
  {
   "cell_type": "code",
   "execution_count": null,
   "metadata": {},
   "outputs": [],
   "source": []
  }
 ],
 "metadata": {
  "kernelspec": {
   "display_name": "Python 3",
   "language": "python",
   "name": "python3"
  },
  "language_info": {
   "codemirror_mode": {
    "name": "ipython",
    "version": 3
   },
   "file_extension": ".py",
   "mimetype": "text/x-python",
   "name": "python",
   "nbconvert_exporter": "python",
   "pygments_lexer": "ipython3",
   "version": "3.8.5"
  }
 },
 "nbformat": 4,
 "nbformat_minor": 4
}
