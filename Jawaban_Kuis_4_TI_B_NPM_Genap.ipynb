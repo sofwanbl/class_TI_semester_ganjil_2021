{
 "cells": [
  {
   "cell_type": "code",
   "execution_count": 1,
   "metadata": {},
   "outputs": [
    {
     "name": "stdout",
     "output_type": "stream",
     "text": [
      "X:5\n",
      "Y:8\n",
      "Nilai X adalah  5\n",
      "Nilai Y adalah  8\n"
     ]
    }
   ],
   "source": [
    "x=int(input(\"X:\"))\n",
    "y=int(input(\"Y:\"))\n",
    "print(\"Nilai X adalah \",x)\n",
    "print(\"Nilai Y adalah \",y)"
   ]
  },
  {
   "cell_type": "code",
   "execution_count": 5,
   "metadata": {},
   "outputs": [
    {
     "name": "stdout",
     "output_type": "stream",
     "text": [
      "X:10\n",
      "# karakter Pertama\n",
      "#\n",
      "#\n",
      "#\n",
      "#\n",
      "#\n",
      "#\n",
      "#\n",
      "#\n",
      "# Karakter Terakhir\n"
     ]
    }
   ],
   "source": [
    "#2. Buatlah program untuk mencetak karakter “#” sebanyak X kali . Pada karakter pertama tuliskan\n",
    "#keterangan “Karakter Pertama”, pada karakter terakhir tuliskan keterangan “Karakter Terakhir”.\n",
    "#Contoh :\n",
    "#X : 3\n",
    "# Karakter Pertama\n",
    "#\n",
    "# Kakrakter Terakhir\n",
    "\n",
    "x=int(input(\"X:\"))\n",
    "for i in range(x):\n",
    "    if i==0:\n",
    "        print(\"#\", end=\"\")\n",
    "        print(\" karakter Pertama\")\n",
    "    elif i==x-1:\n",
    "        print(\"#\", end=\"\")\n",
    "        print(\" Karakter Terakhir\")\n",
    "    else:\n",
    "        print(\"#\")"
   ]
  },
  {
   "cell_type": "code",
   "execution_count": 11,
   "metadata": {},
   "outputs": [
    {
     "name": "stdout",
     "output_type": "stream",
     "text": [
      "X:0\n",
      "Y:11\n",
      "0 Nol\n",
      "1 Lebih kecil dari 10\n",
      "2 Lebih kecil dari 10\n",
      "3 Lebih kecil dari 10\n",
      "4 Lebih kecil dari 10\n",
      "5 Lebih kecil dari 10\n",
      "6 Lebih kecil dari 10\n",
      "7 Lebih kecil dari 10\n",
      "8 Lebih kecil dari 10\n",
      "9 Lebih kecil dari 10\n",
      "10 Sepuluh\n"
     ]
    }
   ],
   "source": [
    "#3. Buatlah program untuk mencetak bilangan dari X ke Y dengan memberi keterangan disamping\n",
    "#masing-masing bilangan tersebut yang jika bilangan terebut adalah NOL, maka beri keterangan\n",
    "#“NOL”, jika bilangan tersebut adalah lebih kecil dari 10, keterangan “Lebih kecil dari 10”, jika\n",
    "#bilangannya adalah 10, keterangan “Sepuluh”\n",
    "#Contoh :\n",
    "#X :4\n",
    "#Y : 8\n",
    "\n",
    "#Output :\n",
    "#4 Lebih kecil dari 10\n",
    "#5 Lebih kecil dari 10\n",
    "#6 Lebih kecil dari 10\n",
    "#7 Lebih kecil dari 10\n",
    "#8 Lebih kecil dari 10\n",
    "\n",
    "x=int(input(\"X:\"))\n",
    "y=int(input(\"Y:\"))\n",
    "\n",
    "for i in range(x,y+1):\n",
    "    if i<10 and i!=0:\n",
    "       print(i,end=\"\")\n",
    "       print(\" Lebih kecil dari 10\")  \n",
    "    elif i==0:\n",
    "       print(i,end=\"\")\n",
    "       print(\" Nol\")  \n",
    "    elif i==10:\n",
    "       print(i,end=\"\")\n",
    "       print(\" Sepuluh\")  \n",
    "        \n",
    "        \n"
   ]
  },
  {
   "cell_type": "code",
   "execution_count": null,
   "metadata": {},
   "outputs": [],
   "source": []
  },
  {
   "cell_type": "code",
   "execution_count": null,
   "metadata": {},
   "outputs": [],
   "source": []
  }
 ],
 "metadata": {
  "kernelspec": {
   "display_name": "Python 3",
   "language": "python",
   "name": "python3"
  },
  "language_info": {
   "codemirror_mode": {
    "name": "ipython",
    "version": 3
   },
   "file_extension": ".py",
   "mimetype": "text/x-python",
   "name": "python",
   "nbconvert_exporter": "python",
   "pygments_lexer": "ipython3",
   "version": "3.8.5"
  }
 },
 "nbformat": 4,
 "nbformat_minor": 4
}
