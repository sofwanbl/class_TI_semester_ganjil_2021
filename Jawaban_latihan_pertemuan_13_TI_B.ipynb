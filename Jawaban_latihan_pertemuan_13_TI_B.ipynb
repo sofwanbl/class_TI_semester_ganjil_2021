{
 "cells": [
  {
   "cell_type": "code",
   "execution_count": 5,
   "metadata": {},
   "outputs": [
    {
     "name": "stdout",
     "output_type": "stream",
     "text": [
      "       Tanggal  Nilai_Penjualan\n",
      "0   2-Nov-2021          5500000\n",
      "1   3-Nov-2021          7000000\n",
      "2   4-Nov-2021         10100000\n",
      "3   5-Nov-2021          6500000\n",
      "4   6-Nov-2021          8000000\n",
      "5   7-Nov-2021          9000000\n",
      "6   8-Nov-2021          5050000\n",
      "7   9-Nov-2021          8000000\n",
      "8  10-Nov-2021          7500000\n",
      "9  11-Nov-2021          8500000\n"
     ]
    },
    {
     "data": {
      "text/html": [
       "<div>\n",
       "<style scoped>\n",
       "    .dataframe tbody tr th:only-of-type {\n",
       "        vertical-align: middle;\n",
       "    }\n",
       "\n",
       "    .dataframe tbody tr th {\n",
       "        vertical-align: top;\n",
       "    }\n",
       "\n",
       "    .dataframe thead th {\n",
       "        text-align: right;\n",
       "    }\n",
       "</style>\n",
       "<table border=\"1\" class=\"dataframe\">\n",
       "  <thead>\n",
       "    <tr style=\"text-align: right;\">\n",
       "      <th></th>\n",
       "      <th>Nilai_Penjualan</th>\n",
       "    </tr>\n",
       "  </thead>\n",
       "  <tbody>\n",
       "    <tr>\n",
       "      <th>count</th>\n",
       "      <td>1.000000e+01</td>\n",
       "    </tr>\n",
       "    <tr>\n",
       "      <th>mean</th>\n",
       "      <td>7.515000e+06</td>\n",
       "    </tr>\n",
       "    <tr>\n",
       "      <th>std</th>\n",
       "      <td>1.554929e+06</td>\n",
       "    </tr>\n",
       "    <tr>\n",
       "      <th>min</th>\n",
       "      <td>5.050000e+06</td>\n",
       "    </tr>\n",
       "    <tr>\n",
       "      <th>25%</th>\n",
       "      <td>6.625000e+06</td>\n",
       "    </tr>\n",
       "    <tr>\n",
       "      <th>50%</th>\n",
       "      <td>7.750000e+06</td>\n",
       "    </tr>\n",
       "    <tr>\n",
       "      <th>75%</th>\n",
       "      <td>8.375000e+06</td>\n",
       "    </tr>\n",
       "    <tr>\n",
       "      <th>max</th>\n",
       "      <td>1.010000e+07</td>\n",
       "    </tr>\n",
       "  </tbody>\n",
       "</table>\n",
       "</div>"
      ],
      "text/plain": [
       "       Nilai_Penjualan\n",
       "count     1.000000e+01\n",
       "mean      7.515000e+06\n",
       "std       1.554929e+06\n",
       "min       5.050000e+06\n",
       "25%       6.625000e+06\n",
       "50%       7.750000e+06\n",
       "75%       8.375000e+06\n",
       "max       1.010000e+07"
      ]
     },
     "execution_count": 5,
     "metadata": {},
     "output_type": "execute_result"
    }
   ],
   "source": [
    "import pandas as pd\n",
    "dataku=pd.read_csv(\"dataku.csv\",names=[\"Tanggal\",\"Nilai_Penjualan\"])\n",
    "print(dataku)\n",
    "dataku.describe()"
   ]
  },
  {
   "cell_type": "code",
   "execution_count": 10,
   "metadata": {},
   "outputs": [
    {
     "name": "stdout",
     "output_type": "stream",
     "text": [
      "      Tanggal  Nilai_Penjualan\n",
      "1  3-Nov-2021          7000000\n",
      "2  4-Nov-2021         10100000\n",
      "3  5-Nov-2021          6500000\n",
      "4  6-Nov-2021          8000000\n",
      "5  7-Nov-2021          9000000\n",
      "6  8-Nov-2021          5050000\n"
     ]
    }
   ],
   "source": [
    "print(dataku.loc[1:6])"
   ]
  },
  {
   "cell_type": "code",
   "execution_count": null,
   "metadata": {},
   "outputs": [],
   "source": []
  }
 ],
 "metadata": {
  "kernelspec": {
   "display_name": "Python 3",
   "language": "python",
   "name": "python3"
  },
  "language_info": {
   "codemirror_mode": {
    "name": "ipython",
    "version": 3
   },
   "file_extension": ".py",
   "mimetype": "text/x-python",
   "name": "python",
   "nbconvert_exporter": "python",
   "pygments_lexer": "ipython3",
   "version": "3.8.5"
  }
 },
 "nbformat": 4,
 "nbformat_minor": 4
}
